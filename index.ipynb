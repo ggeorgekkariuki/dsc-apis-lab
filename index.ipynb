{
 "cells": [
  {
   "cell_type": "markdown",
   "metadata": {},
   "source": [
    "# APIs - Cumulative Lab\n",
    "\n",
    "\n",
    "## Introduction \n",
    "\n",
    "We've seen how the Yelp API works and how to create basic visualizations using Folium. It's time to put those skills to work in order to create a working map! Taking things a step further, you'll also independently explore how to perform pagination in order to retrieve a full results set from the Yelp API.\n",
    "\n",
    "## Objectives\n",
    "\n",
    "You will be able to: \n",
    "\n",
    "* Practice using functions to organize your code\n",
    "* Use pagination to retrieve all results from an API query\n",
    "* Practice parsing data returned from an API query\n",
    "* Practice interpreting visualizations of a dataset\n",
    "* Create maps using Folium"
   ]
  },
  {
   "cell_type": "markdown",
   "metadata": {},
   "source": [
    "## Your Task: Query Yelp for All Businesses in a Category and Analyze the Results\n",
    "\n",
    "![restaurant counter with pizza](images/restaurant_counter.jpg)\n",
    "\n",
    "Photo by <a href=\"https://unsplash.com/@jordanmadrid?utm_source=unsplash&utm_medium=referral&utm_content=creditCopyText\">Jordan Madrid</a> on <a href=\"/s/photos/pizza-restaurant?utm_source=unsplash&utm_medium=referral&utm_content=creditCopyText\">Unsplash</a>"
   ]
  },
  {
   "cell_type": "markdown",
   "metadata": {},
   "source": [
    "### Overview\n",
    "\n",
    "You've now worked with some API calls, but we have yet to see how to retrieve a more complete dataset in a programmatic manner. In this lab, you will write a query of businesses on Yelp, then use *pagination* to retrieve all possible results for that query. Then you will create a summary of your findings, including a Folium map of the geographic locations of those businesses.\n",
    "\n",
    "### Technical Details\n",
    "\n",
    "Returning to the Yelp API, the [documentation](https://www.yelp.com/developers/documentation/v3/business_search) also provides us details regarding the **API limits**. These often include details about the number of requests a user is allowed to make within a specified time limit and the maximum number of results to be returned. In this case, we are told that any request has a **maximum of 50 results per request** and defaults to 20. Furthermore, any search will be limited to a **total of 1000 results**. To retrieve all 1000 of these results, we would have to page through the results piece by piece, retrieving 50 at a time. Processes such as these are often referred to as pagination.\n",
    "\n",
    "Also, be mindful of the **API** ***rate*** **limits**. You can only make **5000 requests per day** and can make requests too fast. Start prototyping small before running a loop that could be faulty. You can also use `time.sleep(n)` to add delays. For more details see https://www.yelp.com/developers/documentation/v3/rate_limiting.\n",
    "\n",
    "In this lab, you will define a search and then paginate over the results to retrieve all of the results. You'll then parse these responses as a list of dictionaries (for further exploration) and create a map using Folium to visualize the results geographically.\n",
    "\n",
    "### Requirements\n",
    "\n",
    "#### 1. Make the Initial Request\n",
    "\n",
    "Start by filling in your API key to make the initial request to the business search API. Investigate the structure of the response you get back and start figuring out how you will extract the relevant information.\n",
    "\n",
    "#### 2. Add Pagination\n",
    "\n",
    "Using loops and functions, collect the maximum number of results for your query from the API.\n",
    "\n",
    "#### 3. Perform Exploratory Analysis\n",
    "\n",
    "Interpret visualizations related to the price range, average rating, and number of reviews for all query results.\n",
    "\n",
    "#### 4. Create a Folium Map\n",
    "\n",
    "Using latitude and longitude data, plot the query results on an interactive map."
   ]
  },
  {
   "cell_type": "markdown",
   "metadata": {},
   "source": [
    "## 1. Make the Initial Request\n",
    "\n",
    "### Querying\n",
    "\n",
    "Start by making an initial request to the Yelp API. Your search must include at least 2 parameters: **term** and **location**. For example, you might search for pizza restaurants in NYC. The term and location is up to you but make the request below.\n",
    "\n",
    "Use the `requests` library ([documentation here](https://requests.readthedocs.io/en/master/user/quickstart/#make-a-request)).\n",
    "\n",
    "You'll also need an API key from Yelp. If you haven't done this already, go to the Yelp [Manage App page](https://www.yelp.com/developers/v3/manage_app) and create a new app (after making an account if you haven't already)."
   ]
  },
  {
   "cell_type": "code",
   "execution_count": 2,
   "metadata": {},
   "outputs": [
    {
     "data": {
      "text/plain": [
       "<Response [200]>"
      ]
     },
     "execution_count": 2,
     "metadata": {},
     "output_type": "execute_result"
    }
   ],
   "source": [
    "# Replace None with appropriate code\n",
    "\n",
    "# Import the requests library\n",
    "import requests\n",
    "\n",
    "# Get this from the \"Manage App\" page. Make sure you set them\n",
    "# back to None before pushing this to GitHub, since otherwise\n",
    "# your credentials will be compromised\n",
    "api_key = None\n",
    "\n",
    "# These can be whatever you want! But the solution uses \"pizza\"\n",
    "# and \"New York NY\" if you want to compare your work directly\n",
    "term = \"pizza\"\n",
    "location = \"New York NY\"\n",
    "\n",
    "# Set up params for request\n",
    "url = \"https://api.yelp.com/v3/businesses/search\"\n",
    "headers = {\n",
    "    \"Authorization\": \"Bearer {}\".format(api_key)\n",
    "}\n",
    "url_params = {\n",
    "    \"term\": term.replace(\" \", \"+\"),\n",
    "    \"location\": location.replace(\" \", \"+\")\n",
    "}\n",
    "\n",
    "# Make the request using requests.get, passing in\n",
    "# url, headers=headers, and params=url_params\n",
    "response = requests.get(url, headers=headers, params=url_params)\n",
    "\n",
    "# Confirm we got a 200 response\n",
    "response"
   ]
  },
  {
   "cell_type": "code",
   "execution_count": 3,
   "metadata": {},
   "outputs": [
    {
     "data": {
      "text/plain": [
       "dict_keys(['businesses', 'total', 'region'])"
      ]
     },
     "execution_count": 3,
     "metadata": {},
     "output_type": "execute_result"
    }
   ],
   "source": [
    "# Run this cell without changes\n",
    "\n",
    "# Get the response body in JSON format\n",
    "response_json = response.json()\n",
    "# View the keys\n",
    "response_json.keys()"
   ]
  },
  {
   "cell_type": "markdown",
   "metadata": {},
   "source": [
    "### Extracting Data\n",
    "\n",
    "Now, retrieve the value associated with the `'businesses'` key, and inspect its contents."
   ]
  },
  {
   "cell_type": "code",
   "execution_count": 4,
   "metadata": {},
   "outputs": [
    {
     "data": {
      "text/plain": [
       "[{'id': 'ysqgdbSrezXgVwER2kQWKA',\n",
       "  'alias': 'julianas-brooklyn-3',\n",
       "  'name': \"Juliana's\",\n",
       "  'image_url': 'https://s3-media2.fl.yelpcdn.com/bphoto/od36nFW220aMFAnNP00ocw/o.jpg',\n",
       "  'is_closed': False,\n",
       "  'url': 'https://www.yelp.com/biz/julianas-brooklyn-3?adjust_creative=ICGkWrygXPlw6kVUifC-_A&utm_campaign=yelp_api_v3&utm_medium=api_v3_business_search&utm_source=ICGkWrygXPlw6kVUifC-_A',\n",
       "  'review_count': 2749,\n",
       "  'categories': [{'alias': 'pizza', 'title': 'Pizza'}],\n",
       "  'rating': 4.4,\n",
       "  'coordinates': {'latitude': 40.70274718768062,\n",
       "   'longitude': -73.99343490196397},\n",
       "  'transactions': ['delivery'],\n",
       "  'price': '$$',\n",
       "  'location': {'address1': '19 Old Fulton St',\n",
       "   'address2': '',\n",
       "   'address3': '',\n",
       "   'city': 'Brooklyn',\n",
       "   'zip_code': '11201',\n",
       "   'country': 'US',\n",
       "   'state': 'NY',\n",
       "   'display_address': ['19 Old Fulton St', 'Brooklyn, NY 11201']},\n",
       "  'phone': '+17185966700',\n",
       "  'display_phone': '(718) 596-6700',\n",
       "  'distance': 308.56984360837544},\n",
       " {'id': 'zj8Lq1T8KIC5zwFief15jg',\n",
       "  'alias': 'prince-street-pizza-new-york-2',\n",
       "  'name': 'Prince Street Pizza',\n",
       "  'image_url': 'https://s3-media4.fl.yelpcdn.com/bphoto/Yugen5hq0A0uqemjWCTRMg/o.jpg',\n",
       "  'is_closed': False,\n",
       "  'url': 'https://www.yelp.com/biz/prince-street-pizza-new-york-2?adjust_creative=ICGkWrygXPlw6kVUifC-_A&utm_campaign=yelp_api_v3&utm_medium=api_v3_business_search&utm_source=ICGkWrygXPlw6kVUifC-_A',\n",
       "  'review_count': 5217,\n",
       "  'categories': [{'alias': 'pizza', 'title': 'Pizza'},\n",
       "   {'alias': 'italian', 'title': 'Italian'}],\n",
       "  'rating': 4.3,\n",
       "  'coordinates': {'latitude': 40.72308755605564,\n",
       "   'longitude': -73.99453001177575},\n",
       "  'transactions': ['delivery', 'pickup'],\n",
       "  'price': '$',\n",
       "  'location': {'address1': '27 Prince St',\n",
       "   'address2': None,\n",
       "   'address3': '',\n",
       "   'city': 'New York',\n",
       "   'zip_code': '10012',\n",
       "   'country': 'US',\n",
       "   'state': 'NY',\n",
       "   'display_address': ['27 Prince St', 'New York, NY 10012']},\n",
       "  'phone': '+12129664100',\n",
       "  'display_phone': '(212) 966-4100',\n",
       "  'distance': 1961.8771417367063}]"
      ]
     },
     "execution_count": 4,
     "metadata": {},
     "output_type": "execute_result"
    }
   ],
   "source": [
    "# Replace None with appropriate code\n",
    "\n",
    "# Retrieve the value from response_json\n",
    "businesses = response_json[\"businesses\"]\n",
    "\n",
    "# View the first 2 records\n",
    "businesses[:2]"
   ]
  },
  {
   "cell_type": "code",
   "execution_count": 5,
   "metadata": {},
   "outputs": [
    {
     "data": {
      "text/plain": [
       "True"
      ]
     },
     "execution_count": 5,
     "metadata": {},
     "output_type": "execute_result"
    }
   ],
   "source": [
    "\"price\" in businesses[2].keys()"
   ]
  },
  {
   "cell_type": "markdown",
   "metadata": {},
   "source": [
    "### Preparing Data\n",
    "\n",
    "Write a function `prepare_data` that takes in a list of dictionaries like `businesses` and returns a copy that has been prepared for analysis:\n",
    "\n",
    "1. The `coordinates` key-value pair has been converted into two separate key-value pairs, `latitude` and `longitude`\n",
    "2. All other key-value pairs except for `name`, `review_count`, `rating`, and `price` have been dropped\n",
    "3. All dictionaries missing one of the relevant keys or containing null values have been dropped\n",
    "\n",
    "In other words, the final keys for each dictionary should be `name`, `review_count`, `rating`, `price`, `latitude`, and `longitude`.\n",
    "\n",
    "Complete the function in the cell below:"
   ]
  },
  {
   "cell_type": "code",
   "execution_count": 6,
   "metadata": {},
   "outputs": [
    {
     "data": {
      "text/plain": [
       "[{'name': \"Juliana's\",\n",
       "  'review_count': 2749,\n",
       "  'rating': 4.4,\n",
       "  'price': '$$',\n",
       "  'longitude': -73.99343490196397,\n",
       "  'latitude': 40.70274718768062},\n",
       " {'name': 'Prince Street Pizza',\n",
       "  'review_count': 5217,\n",
       "  'rating': 4.3,\n",
       "  'price': '$',\n",
       "  'longitude': -73.99453001177575,\n",
       "  'latitude': 40.72308755605564},\n",
       " {'name': \"L'industrie Pizzeria\",\n",
       "  'review_count': 1256,\n",
       "  'rating': 4.7,\n",
       "  'price': '$',\n",
       "  'longitude': -73.95783,\n",
       "  'latitude': 40.71162},\n",
       " {'name': 'Rubirosa',\n",
       "  'review_count': 3299,\n",
       "  'rating': 4.3,\n",
       "  'price': '$$',\n",
       "  'longitude': -73.996233,\n",
       "  'latitude': 40.722766},\n",
       " {'name': \"Lombardi's Pizza\",\n",
       "  'review_count': 6623,\n",
       "  'rating': 3.8,\n",
       "  'price': '$$',\n",
       "  'longitude': -73.9955956044561,\n",
       "  'latitude': 40.7215934960083}]"
      ]
     },
     "execution_count": 6,
     "metadata": {},
     "output_type": "execute_result"
    }
   ],
   "source": [
    "# Replace None with appropriate code\n",
    "\n",
    "def prepare_data(data_list):\n",
    "    \"\"\"\n",
    "    This function takes in a list of dictionaries and prepares it\n",
    "    for analysis\n",
    "    \"\"\"\n",
    "    \n",
    "    # Make a new list to hold results\n",
    "    results = []\n",
    "    \n",
    "    for business_data in data_list:\n",
    "    \n",
    "        # Make a new dictionary to hold prepared data for this business\n",
    "        prepared_data = {}\n",
    "\n",
    "        # Extract name, review_count, rating, and price key-value pairs\n",
    "        # from business_data and add to prepared_data\n",
    "        # If a key is not present in business_data, add it to prepared_data\n",
    "        # with an associated value of None\n",
    "\n",
    "        for feature in [\"name\", \"review_count\", \"rating\", \"price\"]:\n",
    "            if feature in business_data.keys():\n",
    "                prepared_data[feature] = business_data[feature]\n",
    "            else:\n",
    "                 prepared_data[feature] = None\n",
    "            \n",
    "        # Parse and add latitude and longitude columns\n",
    "        prepared_data[\"longitude\"] = business_data['coordinates'][\"longitude\"]\n",
    "        prepared_data[\"latitude\"] = business_data['coordinates'][\"latitude\"]\n",
    "        \n",
    "        # Add to list if all values are present\n",
    "        if all(prepared_data.values()):\n",
    "            results.append(prepared_data)\n",
    "    \n",
    "    return results\n",
    "    \n",
    "# Test out function\n",
    "prepared_businesses = prepare_data(businesses)\n",
    "prepared_businesses[:5]"
   ]
  },
  {
   "cell_type": "markdown",
   "metadata": {},
   "source": [
    "Check that your function created the correct keys:"
   ]
  },
  {
   "cell_type": "code",
   "execution_count": 7,
   "metadata": {},
   "outputs": [],
   "source": [
    "# Run this cell without changes\n",
    "\n",
    "assert sorted(list(prepared_businesses[0].keys())) == ['latitude', 'longitude', 'name', 'price', 'rating', 'review_count']"
   ]
  },
  {
   "cell_type": "markdown",
   "metadata": {},
   "source": [
    "The following code will differ depending on your query, but we expect there to be 20 businesses in the original list, and potentially fewer in the prepared list (if any of them were missing data):"
   ]
  },
  {
   "cell_type": "code",
   "execution_count": 8,
   "metadata": {},
   "outputs": [
    {
     "name": "stdout",
     "output_type": "stream",
     "text": [
      "Original: 20\n",
      "Prepared: 16\n"
     ]
    }
   ],
   "source": [
    "# Run this cell without changes\n",
    "print(\"Original:\", len(businesses))\n",
    "print(\"Prepared:\", len(prepared_businesses))"
   ]
  },
  {
   "cell_type": "markdown",
   "metadata": {},
   "source": [
    "Great! We will reuse this function once we have retrieved the full dataset."
   ]
  },
  {
   "cell_type": "markdown",
   "metadata": {},
   "source": [
    "## 2. Add Pagination\n",
    "\n",
    "Now that you are able to extract information from one page of the response, let's figure out how to request as many pages as possible.\n",
    "\n",
    "### Determining the Total\n",
    "\n",
    "Depending on the number of total results for your query, you will either retrieve all of the results, or just the first 1000 (if there are more than 1000 total).\n",
    "\n",
    "We can find the total number of results using the `\"total\"` key:"
   ]
  },
  {
   "cell_type": "code",
   "execution_count": 9,
   "metadata": {},
   "outputs": [
    {
     "data": {
      "text/plain": [
       "12700"
      ]
     },
     "execution_count": 9,
     "metadata": {},
     "output_type": "execute_result"
    }
   ],
   "source": [
    "# Run this cell without changes\n",
    "response_json[\"total\"]"
   ]
  },
  {
   "cell_type": "markdown",
   "metadata": {},
   "source": [
    "(This is specific to the implementation of the Yelp API. Some APIs will just tell you that there are more pages, or will tell you the number of pages total, rather than the total number of results. If you're not sure, always check the documentation.)\n",
    "\n",
    "In the cell below, assign the variable `total` to either the value shown above (if it is less than 1000), or 1000."
   ]
  },
  {
   "cell_type": "code",
   "execution_count": 10,
   "metadata": {},
   "outputs": [],
   "source": [
    "# Replace None with appropriate code\n",
    "total = 1000"
   ]
  },
  {
   "cell_type": "markdown",
   "metadata": {},
   "source": [
    "### Calculating the Offsets\n",
    "\n",
    "The documentation states in the parameters section:\n",
    "\n",
    "> **Name**: `limit`, **Type:** int, **Description:** Optional. Number of business results to return. By default, it will return 20. Maximum is 50.\n",
    "\n",
    "> **Name**: `offset`, **Type:** int, **Description:** Optional. Offset the list of returned business results by this amount.\n",
    "\n",
    "So, to get the most results with the fewest API calls we want to set a limit of 50 every time. If, say, we wanted to get 210 total results, that would mean:\n",
    "\n",
    "1. Offset of `0` (first 50 records)\n",
    "2. Offset of `50` (second 50 records)\n",
    "3. Offset of `100` (third 50 records)\n",
    "4. Offset of `150` (fourth 50 records)\n",
    "5. Offset of `200` (final 10 records)\n",
    "\n",
    "In the cell below, create a function `get_offsets` that takes in a total and returns a list of offsets for that total. You can assume that there is a limit of 50 every time.\n",
    "\n",
    "*Hint: you can use `range` ([documentation here](https://docs.python.org/3.3/library/stdtypes.html?highlight=range#range)) to do this in one line of code. Just make the returned result is a list.*"
   ]
  },
  {
   "cell_type": "code",
   "execution_count": 30,
   "metadata": {},
   "outputs": [],
   "source": [
    "# Replace None with appropriate code\n",
    "def get_offsets(total):\n",
    "    \"\"\"\n",
    "    Get a list of offsets needed to get all pages\n",
    "    of data up until the total\n",
    "    \"\"\"\n",
    "    return range(0, total, 50)"
   ]
  },
  {
   "cell_type": "markdown",
   "metadata": {},
   "source": [
    "Check that your function works below:"
   ]
  },
  {
   "cell_type": "code",
   "execution_count": 12,
   "metadata": {},
   "outputs": [],
   "source": [
    "# Run this cell without changes\n",
    "\n",
    "assert get_offsets(200) == [0, 50, 100, 150]\n",
    "assert get_offsets(210) == [0, 50, 100, 150, 200]"
   ]
  },
  {
   "cell_type": "markdown",
   "metadata": {},
   "source": [
    "### Putting It All Together\n",
    "\n",
    "Recall that the following variable has already been declared for you:"
   ]
  },
  {
   "cell_type": "code",
   "execution_count": 13,
   "metadata": {},
   "outputs": [
    {
     "data": {
      "text/plain": [
       "{'term': 'pizza', 'location': 'New+York+NY'}"
      ]
     },
     "execution_count": 13,
     "metadata": {},
     "output_type": "execute_result"
    }
   ],
   "source": [
    "# Run this cell without changes\n",
    "url_params"
   ]
  },
  {
   "cell_type": "markdown",
   "metadata": {},
   "source": [
    "We'll go ahead and also specify that the limit should be 50 every time:"
   ]
  },
  {
   "cell_type": "code",
   "execution_count": 14,
   "metadata": {},
   "outputs": [],
   "source": [
    "# Run this cell without changes\n",
    "url_params[\"limit\"] = 50"
   ]
  },
  {
   "cell_type": "markdown",
   "metadata": {},
   "source": [
    "In order to modify the offset, you'll need to add it to `url_params` with the key `\"offset\"` and whatever value is needed.\n",
    "\n",
    "In the cell below, write code that:\n",
    "\n",
    "* Creates an empty list for the full prepared dataset\n",
    "* Loops over all of the offsets from `get_offsets` and makes an API call each time with the specified offset\n",
    "* Calls `prepare_data` to get a cleaned version of the result of each API call\n",
    "* Extends the full prepared dataset list with each query's prepared dataset"
   ]
  },
  {
   "cell_type": "code",
   "execution_count": 27,
   "metadata": {},
   "outputs": [],
   "source": [
    "def get_businesses(location, term, api_key):\n",
    "    headers = {'Authorization': 'Bearer %s' % api_key}\n",
    "    url = 'https://api.yelp.com/v3/businesses/search'\n",
    "\n",
    "    data = []\n",
    "    for offset in range(0, 1000, 50):\n",
    "        params = {\n",
    "            'limit': 50, \n",
    "            'location': location.replace(' ', '+'),\n",
    "            'term': term.replace(' ', '+'),\n",
    "            'offset': offset\n",
    "        }\n",
    "\n",
    "        response = requests.get(url, headers=headers, params=params)\n",
    "        if response.status_code == 200:\n",
    "            data += response.json()['businesses']\n",
    "        elif response.status_code == 400:\n",
    "            print('400 Bad Request')\n",
    "            break\n",
    "\n",
    "    return data"
   ]
  },
  {
   "cell_type": "code",
   "execution_count": 40,
   "metadata": {},
   "outputs": [
    {
     "data": {
      "text/plain": [
       "688"
      ]
     },
     "execution_count": 40,
     "metadata": {},
     "output_type": "execute_result"
    }
   ],
   "source": [
    "\"\"\"\n",
    "Using the get_businesses method above gets 3X more data that the defined method below.\n",
    "\"\"\"\n",
    "# Our necessary term and location\n",
    "term = \"pizza\"\n",
    "location = \"New York NY\"\n",
    "\n",
    "# An empty list awaiting cleaned data\n",
    "full_dataset = []\n",
    "\n",
    "# Getting 1000 entries\n",
    "data = get_businesses(location, term, api_key)\n",
    "\n",
    "# Obtaining only the necessary data\n",
    "prepared_businesses = prepare_data(data)\n",
    "\n",
    "# Adding them to the empty list\n",
    "full_dataset.extend(prepared_businesses)\n",
    "\n",
    "# Checking number of items\n",
    "len(full_dataset)"
   ]
  },
  {
   "cell_type": "code",
   "execution_count": 41,
   "metadata": {},
   "outputs": [
    {
     "name": "stdout",
     "output_type": "stream",
     "text": [
      "dict_keys(['error'])\n",
      "dict_keys(['error'])\n",
      "dict_keys(['error'])\n",
      "dict_keys(['error'])\n",
      "dict_keys(['error'])\n",
      "dict_keys(['error'])\n",
      "dict_keys(['error'])\n",
      "dict_keys(['error'])\n",
      "dict_keys(['error'])\n",
      "dict_keys(['error'])\n",
      "dict_keys(['error'])\n",
      "dict_keys(['error'])\n",
      "dict_keys(['error'])\n",
      "dict_keys(['error'])\n",
      "dict_keys(['error'])\n",
      "dict_keys(['error'])\n",
      "dict_keys(['error'])\n",
      "dict_keys(['error'])\n",
      "dict_keys(['error'])\n",
      "dict_keys(['error'])\n"
     ]
    },
    {
     "data": {
      "text/plain": [
       "252"
      ]
     },
     "execution_count": 41,
     "metadata": {},
     "output_type": "execute_result"
    }
   ],
   "source": [
    "# Replace None with appropriate code\n",
    "import time\n",
    "\n",
    "# Create an empty list for the full prepared dataset\n",
    "full_datasetss = []\n",
    "\n",
    "for offset in range(0, 1000, 50):\n",
    "    # Add or update the \"offset\" key-value pair in url_params\n",
    "    url_params[\"offset\"] = offset\n",
    "\n",
    "    # Make the query and get the response\n",
    "    response = requests.get(url, headers=headers, params=url_params)\n",
    "\n",
    "    # Time Delay - 1 SEC\n",
    "    time.sleep(1)\n",
    "\n",
    "    print(response_json.keys())\n",
    "    businesses = []\n",
    "    # Get the response body in JSON format\n",
    "    businesses += response.json()['businesses']\n",
    "\n",
    "    # Call the prepare_data function to get a list of processed data\n",
    "    prepared_businesses = prepare_data(businesses)\n",
    "\n",
    "    # Extend full_dataset with this list (don't append, or you'll get\n",
    "    # a list of lists instead of a flat list)\n",
    "    full_datasetss.extend(prepared_businesses)\n",
    "\n",
    "# Check the length of the full dataset. It will be up to `total`,\n",
    "# potentially less if there were missing values\n",
    "len(full_datasetss)\n",
    "# response_json[\"error\"]"
   ]
  },
  {
   "cell_type": "code",
   "execution_count": 42,
   "metadata": {},
   "outputs": [
    {
     "data": {
      "text/plain": [
       "{'name': \"Juliana's\",\n",
       " 'review_count': 2749,\n",
       " 'rating': 4.4,\n",
       " 'price': '$$',\n",
       " 'longitude': -73.99343490196397,\n",
       " 'latitude': 40.70274718768062}"
      ]
     },
     "execution_count": 42,
     "metadata": {},
     "output_type": "execute_result"
    }
   ],
   "source": [
    "full_datasetss[0]"
   ]
  },
  {
   "cell_type": "markdown",
   "metadata": {},
   "source": [
    "This code may take up to a few minutes to run.\n",
    "\n",
    "If you get an error trying to get the response body in JSON format, try adding `time.sleep(1)` right after the `requests.get` line, so your code will sleep for 1 second between each API call."
   ]
  },
  {
   "cell_type": "markdown",
   "metadata": {},
   "source": [
    "## 3. Perform Exploratory Analysis\n",
    "\n",
    "Take the businesses from the previous question and do an initial exploratory analysis. We have provided some plots for you to interpret:"
   ]
  },
  {
   "cell_type": "code",
   "execution_count": 49,
   "metadata": {},
   "outputs": [
    {
     "data": {
      "image/png": "[encoded data removed]",
      "text/plain": [
       "<Figure size 1152x360 with 3 Axes>"
      ]
     },
     "metadata": {
      "needs_background": "light"
     },
     "output_type": "display_data"
    }
   ],
   "source": [
    "# Run this cell without changes\n",
    "from collections import Counter\n",
    "import matplotlib.pyplot as plt\n",
    "%matplotlib inline\n",
    "\n",
    "fig, (ax1, ax2, ax3) = plt.subplots(ncols=3, figsize=(16, 5))\n",
    "\n",
    "# Plot distribution of number of reviews\n",
    "all_review_counts = [x[\"review_count\"] for x in full_dataset]\n",
    "ax1.hist(all_review_counts)\n",
    "ax1.set_title(\"Review Count Distribution\")\n",
    "ax1.set_xlabel(\"Number of Reviews\")\n",
    "ax1.set_ylabel(\"Number of Businesses\")\n",
    "\n",
    "# Plot rating distribution\n",
    "all_ratings = [x[\"rating\"] for x in full_dataset]\n",
    "rating_counter = Counter(all_ratings)\n",
    "rating_keys = sorted(rating_counter.keys())\n",
    "ax2.bar(rating_keys, [rating_counter[key] for key in rating_keys])\n",
    "ax2.set_title(\"Rating Distribution\")\n",
    "ax2.set_xlabel(\"Rating\")\n",
    "ax2.set_ylabel(\"Number of Businesses\")\n",
    "\n",
    "# Plot price distribution\n",
    "all_prices = [x[\"price\"].replace(\"$\", r\"\\$\") for x in full_dataset]\n",
    "price_counter = Counter(all_prices)\n",
    "price_keys = sorted(price_counter.keys())\n",
    "ax3.bar(price_keys, [price_counter[key] for key in price_keys])\n",
    "ax3.set_title(\"Price Distribution\")\n",
    "ax3.set_xlabel(\"Price Category\")\n",
    "ax3.set_ylabel(\"Number of Businesses\");"
   ]
  },
  {
   "cell_type": "markdown",
   "metadata": {},
   "source": [
    "Describe the distributions displayed above and interpret them in the context of your query. (Your answer may differ from the solution branch depending on your query.)"
   ]
  },
  {
   "cell_type": "code",
   "execution_count": 34,
   "metadata": {},
   "outputs": [
    {
     "data": {
      "text/plain": [
       "'\\nNone\\n'"
      ]
     },
     "execution_count": 34,
     "metadata": {},
     "output_type": "execute_result"
    }
   ],
   "source": [
    "# Replace None with appropriate text\n",
    "\"\"\"\n",
    "Reviews: The distribution is skewed to the left with a rather long tail to the right. This means that the median and mode are less\n",
    "than the mean. Close to 600 businesses have between 0 and 1500 reviews. Less than 100 businesses have reviews exceeding 1500.\n",
    "\n",
    "Ratings: The distribution is skewed to right with the a long tail to the left. The mean is greater than the mode and median. We \n",
    "can observe that many businesses have a rating between 3 and 4. Less than 40 businesses have reviews below 3, while less than 10 \n",
    "businesses have a rating above 5.\n",
    "\n",
    "Price: We can see that the feature is categorical with the category with the highest count is $$ while the businesses that\n",
    "have a price category of $$$$ are less than 50.\n",
    "\"\"\""
   ]
  },
  {
   "cell_type": "markdown",
   "metadata": {},
   "source": [
    "In the cell below, we also plot the rating distributions by price. In this setup, a price of one dollar sign is \"lower price\" and everything else is \"higher price\"."
   ]
  },
  {
   "cell_type": "code",
   "execution_count": 50,
   "metadata": {},
   "outputs": [
    {
     "data": {
      "image/png": "[encoded data removed]",
      "text/plain": [
       "<Figure size 432x288 with 1 Axes>"
      ]
     },
     "metadata": {
      "needs_background": "light"
     },
     "output_type": "display_data"
    }
   ],
   "source": [
    "# Run this cell without changes\n",
    "\n",
    "higher_price = []\n",
    "lower_price = []\n",
    "for row in full_dataset:\n",
    "    if row[\"price\"] == \"$\":\n",
    "        lower_price.append(row[\"rating\"])\n",
    "    else:\n",
    "        higher_price.append(row[\"rating\"])\n",
    "        \n",
    "fig, ax = plt.subplots()\n",
    "\n",
    "ax.hist([higher_price, lower_price], label=[\"higher price\", \"lower price\"], density=True)\n",
    "\n",
    "ax.legend();"
   ]
  },
  {
   "cell_type": "markdown",
   "metadata": {},
   "source": [
    "Is a higher price associated with a higher rating? (No need for any additional math/statistics, just interpret what you see in the plot.)"
   ]
  },
  {
   "cell_type": "code",
   "execution_count": 36,
   "metadata": {},
   "outputs": [
    {
     "data": {
      "text/plain": [
       "'\\nNone\\n'"
      ]
     },
     "execution_count": 36,
     "metadata": {},
     "output_type": "execute_result"
    }
   ],
   "source": [
    "# Replace None with appropriate text\n",
    "\"\"\"\n",
    "Although the distribution for both categories are skewed to the right, from the distribution we can associate \n",
    "higher prices have better ratings than the lowly priced businesses.\n",
    "\"\"\""
   ]
  },
  {
   "cell_type": "markdown",
   "metadata": {},
   "source": [
    "Finally, let's look at ratings vs. review counts:"
   ]
  },
  {
   "cell_type": "code",
   "execution_count": 51,
   "metadata": {},
   "outputs": [
    {
     "data": {
      "image/png": "[encoded data removed]",
      "text/plain": [
       "<Figure size 1152x360 with 1 Axes>"
      ]
     },
     "metadata": {
      "needs_background": "light"
     },
     "output_type": "display_data"
    }
   ],
   "source": [
    "# Run this cell without changes\n",
    "fig, ax = plt.subplots(figsize=(16,5))\n",
    "\n",
    "ax.scatter(all_review_counts, all_ratings, alpha=0.2)\n",
    "ax.set_xlabel(\"Number of Reviews\")\n",
    "ax.set_ylabel(\"Rating\")\n",
    "# \"zoom in\" to a subset of review counts\n",
    "ax.set_xlim(left=0, right=1000);"
   ]
  },
  {
   "cell_type": "markdown",
   "metadata": {},
   "source": [
    "Is a higher number of reviews associated with a higher rating?"
   ]
  },
  {
   "cell_type": "code",
   "execution_count": 38,
   "metadata": {},
   "outputs": [
    {
     "data": {
      "text/plain": [
       "'\\nNone\\n'"
      ]
     },
     "execution_count": 38,
     "metadata": {},
     "output_type": "execute_result"
    }
   ],
   "source": [
    "# Replace None with appropriate text\n",
    "\"\"\"\n",
    "From the scatter plot, we can observe that although the 4.0 rating has the most reviews, there is barely any relation between\n",
    "the number of reviews and the ratings that the business(es) received.\n",
    "\"\"\""
   ]
  },
  {
   "cell_type": "markdown",
   "metadata": {},
   "source": [
    "## 4. Create a Folium Map\n",
    "\n",
    "Make a map using Folium of the businesses you retrieved. Be sure to also add popups to the markers giving some basic information such as name, rating and price.\n",
    "\n",
    "You can center the map around the latitude and longitude of the first item in `full_dataset`."
   ]
  },
  {
   "cell_type": "code",
   "execution_count": 46,
   "metadata": {},
   "outputs": [
    {
     "data": {
      "text/html": [
       "<div style=\"width:100%;\"><div style=\"position:relative;width:100%;height:0;padding-bottom:60%;\"><span style=\"color:#565656\">Make this Notebook Trusted to load map: File -> Trust Notebook</span><iframe src=\"about:blank\" style=\"position:absolute;width:100%;height:100%;left:0;top:0;border:none !important;\" data-html=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 onload=\"this.contentDocument.open();this.contentDocument.write(atob(this.getAttribute('data-html')));this.contentDocument.close();\" allowfullscreen webkitallowfullscreen mozallowfullscreen></iframe></div></div>"
      ],
      "text/plain": [
       "<folium.folium.Map at 0x2a136a2bbe0>"
      ]
     },
     "execution_count": 46,
     "metadata": {},
     "output_type": "execute_result"
    }
   ],
   "source": [
    "# Replace None with appropriate code\n",
    "# Import the library\n",
    "import folium\n",
    "\n",
    "# Set up center latitude and longitude\n",
    "center_lat = full_dataset[0][\"latitude\"]\n",
    "center_long = full_dataset[0][\"longitude\"]\n",
    "\n",
    "# Initialize map with center lat and long\n",
    "yelp_map = folium.Map([center_lat, center_long], zoom_start=12)\n",
    "\n",
    "# Adjust this limit to see more or fewer businesses\n",
    "limit=100\n",
    "\n",
    "for business in full_dataset[:limit]:\n",
    "    # Extract information about business\n",
    "    lat = business[\"latitude\"]\n",
    "    long = business[\"longitude\"]\n",
    "    name = business[\"name\"]\n",
    "    rating = business[\"rating\"]\n",
    "    price = business[\"price\"]\n",
    "    details = \"{}\\nPrice: {}\\nRating: {}\".format(name,price,rating)\n",
    "    \n",
    "    # Create popup with relevant details\n",
    "    popup = folium.Popup(details)\n",
    "    \n",
    "    # Create marker with relevant lat/long and popup\n",
    "    marker = folium.Marker([lat, long], popup=popup)\n",
    "    \n",
    "    marker.add_to(yelp_map)\n",
    "    \n",
    "yelp_map"
   ]
  },
  {
   "cell_type": "markdown",
   "metadata": {},
   "source": [
    "## Summary\n",
    "\n",
    "Nice work! In this lab, you've made multiple API calls to Yelp in order to paginate through a results set, performing some basic exploratory analysis and then creating a nice interactive map to display the results using Folium! Well done!"
   ]
  }
 ],
 "metadata": {
  "kernelspec": {
   "display_name": "Python 3",
   "language": "python",
   "name": "python3"
  },
  "language_info": {
   "codemirror_mode": {
    "name": "ipython",
    "version": 3
   },
   "file_extension": ".py",
   "mimetype": "text/x-python",
   "name": "python",
   "nbconvert_exporter": "python",
   "pygments_lexer": "ipython3",
   "version": "3.8.5"
  },
  "toc": {
   "base_numbering": 1,
   "nav_menu": {},
   "number_sections": true,
   "sideBar": true,
   "skip_h1_title": false,
   "title_cell": "Table of Contents",
   "title_sidebar": "Contents",
   "toc_cell": false,
   "toc_position": {},
   "toc_section_display": true,
   "toc_window_display": false
  }
 },
 "nbformat": 4,
 "nbformat_minor": 4
}
